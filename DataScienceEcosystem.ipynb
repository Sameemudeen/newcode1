{
  "nbformat": 4,
  "nbformat_minor": 0,
  "metadata": {
    "colab": {
      "provenance": [],
      "authorship_tag": "ABX9TyOaZPAn9Xeqse85nuGPsK1O",
      "include_colab_link": true
    },
    "kernelspec": {
      "name": "python3",
      "display_name": "Python 3"
    },
    "language_info": {
      "name": "python"
    }
  },
  "cells": [
    {
      "cell_type": "markdown",
      "metadata": {
        "id": "view-in-github",
        "colab_type": "text"
      },
      "source": [
        "<a href=\"https://colab.research.google.com/github/Sameemudeen/newcode1/blob/main/DataScienceEcosystem.ipynb\" target=\"_parent\"><img src=\"https://colab.research.google.com/assets/colab-badge.svg\" alt=\"Open In Colab\"/></a>"
      ]
    },
    {
      "cell_type": "markdown",
      "source": [
        "# Data Science Tools and Ecosystem\n",
        "\n",
        "---\n",
        "\n"
      ],
      "metadata": {
        "id": "3SF79ZcPe55K"
      }
    },
    {
      "cell_type": "markdown",
      "source": [
        "In this notebook, Data Science Tools and Ecosystem are summarized."
      ],
      "metadata": {
        "id": "L3MB-w4Afj6z"
      }
    },
    {
      "cell_type": "markdown",
      "source": [
        "Some of the popular languages that Data Scientists use are:\n",
        "\n",
        "---\n",
        "\n",
        "1.   Python\n",
        "2.   R\n",
        "3.   SQL\n",
        "4.   Java\n",
        "5.   c/c++\n",
        "\n",
        "\n",
        "\n",
        "\n",
        "\n",
        "\n"
      ],
      "metadata": {
        "id": "8eLYPj0hfx0k"
      }
    },
    {
      "cell_type": "markdown",
      "source": [],
      "metadata": {
        "id": "iku8XocigzHV"
      }
    },
    {
      "cell_type": "markdown",
      "source": [
        "Some of the commonly used libraries used by Data Scientists include:\n",
        "\n",
        "\n",
        "---\n",
        "\n",
        "\n",
        "1.   NumPy\n",
        "2.   Pandas\n",
        "3.   Matplotlib\n",
        "4.   Seaborn\n",
        "5.   SciKit-learn\n",
        "\n",
        "\n",
        "\n"
      ],
      "metadata": {
        "id": "bIlvSZxTgzIe"
      }
    },
    {
      "cell_type": "markdown",
      "source": [
        "--------------------\n",
        "|Data Science Tools|\n",
        "--------------------\n",
        "|Jupyter Notebook  |\n",
        "|Rstudio           |\n",
        "|Apache Zeppline   |\n",
        "\n"
      ],
      "metadata": {
        "id": "jORdtOM1hKQH"
      }
    },
    {
      "cell_type": "markdown",
      "source": [
        "###Below are a few examples of evaluating arithmetic expressions in Python.\n",
        "\n",
        "---\n",
        "# Addition\n",
        "result1 = 10 + 5       # Output: 15\n",
        "\n",
        "# Subtraction\n",
        "result2 = 20 - 4       # Output: 16\n",
        "\n",
        "# Multiplication\n",
        "result3 = 7 * 6        # Output: 42\n",
        "\n",
        "# Division\n",
        "result4 = 8 / 2        # Output: 4.0\n",
        "\n",
        "# Floor Division (quotient without remainder)\n",
        "result5 = 9 // 2       # Output: 4\n",
        "\n",
        "# Modulus (remainder)\n",
        "result6 = 9 % 2        # Output: 1\n",
        "\n",
        "# Exponentiation\n",
        "result7 = 2 ** 3       # Output: 8\n",
        "\n",
        "\n"
      ],
      "metadata": {
        "id": "ho-f1QU-jL-P"
      }
    },
    {
      "cell_type": "markdown",
      "source": [
        " This a simple arithmetic expression to mutiply then add integers\n",
        "\n",
        "---\n",
        "\n"
      ],
      "metadata": {
        "id": "5cYdaRRKkyLE"
      }
    },
    {
      "cell_type": "code",
      "source": [
        "(3*4)+5"
      ],
      "metadata": {
        "colab": {
          "base_uri": "https://localhost:8080/"
        },
        "id": "fpU_UMxBk0bm",
        "outputId": "a1bc9da2-27f9-4f8f-e22a-45da5f08067a"
      },
      "execution_count": 1,
      "outputs": [
        {
          "output_type": "execute_result",
          "data": {
            "text/plain": [
              "17"
            ]
          },
          "metadata": {},
          "execution_count": 1
        }
      ]
    },
    {
      "cell_type": "markdown",
      "source": [
        "This will convert 200 minutes to hours by diving by 60\n",
        "\n",
        "---\n",
        "\n"
      ],
      "metadata": {
        "id": "k1B9hx8rlHpm"
      }
    },
    {
      "cell_type": "code",
      "source": [
        "minutes = 200\n",
        "hours = minutes / 60\n",
        "print(\"Minutes:\", minutes)\n",
        "print(\"Hours:\", round(hours, 2))"
      ],
      "metadata": {
        "colab": {
          "base_uri": "https://localhost:8080/"
        },
        "id": "bMQhHbY1lJeU",
        "outputId": "4c786aae-b32b-41b1-9aad-5e15aa691da7"
      },
      "execution_count": 3,
      "outputs": [
        {
          "output_type": "stream",
          "name": "stdout",
          "text": [
            "Minutes: 200\n",
            "Hours: 3.33\n"
          ]
        }
      ]
    },
    {
      "cell_type": "markdown",
      "source": [
        "**objective:**\n",
        "\n",
        "\n",
        "---\n",
        "- List popular languages for Data Science  \n",
        "- Identify commonly used open-source tools in Data Science  \n",
        "- Write and evaluate basic arithmetic expressions in Python  \n",
        "- Convert time units using Python expressions  \n",
        "- Create and format Markdown tables in Jupyter Notebooks  \n",
        "\n",
        "\n"
      ],
      "metadata": {
        "id": "yHwTkHKGnARk"
      }
    },
    {
      "cell_type": "markdown",
      "source": [
        "##Author\n",
        "S.Mohamed Sameemudeen\n",
        "\n"
      ],
      "metadata": {
        "id": "sAt4LDeYnsZU"
      }
    }
  ]
}